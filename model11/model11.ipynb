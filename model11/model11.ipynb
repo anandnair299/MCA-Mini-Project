{
  "nbformat": 4,
  "nbformat_minor": 0,
  "metadata": {
    "colab": {
      "provenance": []
    },
    "kernelspec": {
      "name": "python3",
      "display_name": "Python 3"
    },
    "language_info": {
      "name": "python"
    }
  },
  "cells": [
    {
      "cell_type": "code",
      "execution_count": 24,
      "metadata": {
        "id": "m_VYL02ZZpnK"
      },
      "outputs": [],
      "source": [
        "import os\n",
        "import pandas as pd\n",
        "import numpy as np\n",
        "import matplotlib.pyplot as plt\n",
        "import seaborn as sns\n",
        "import keras\n",
        "import tensorflow as tf\n",
        "from keras.models import Sequential\n",
        "from keras.layers import Dense, Conv2D , MaxPool2D , Flatten , Dropout , BatchNormalization\n",
        "from keras.preprocessing.image import ImageDataGenerator\n",
        "from tensorflow.keras.applications import VGG16\n",
        "from tensorflow.keras import models\n",
        "from tensorflow.keras import layers\n",
        "from keras.models import Model\n",
        "\n",
        "from tensorflow.keras.models import Sequential\n",
        "from sklearn.model_selection import train_test_split\n",
        "from sklearn.metrics import classification_report,confusion_matrix\n",
        "from keras.callbacks import ReduceLROnPlateau\n",
        "import cv2\n",
        "import os\n",
        "from google.colab import drive\n",
        "from sklearn.utils.class_weight import compute_class_weight\n",
        "from getpass import getpass"
      ]
    },
    {
      "cell_type": "code",
      "source": [
        "drive.mount('/content/drive')"
      ],
      "metadata": {
        "colab": {
          "base_uri": "https://localhost:8080/"
        },
        "id": "U8gjDJNjZtyj",
        "outputId": "1efd02f7-cded-416e-8b5d-11ac64c4ede8"
      },
      "execution_count": 3,
      "outputs": [
        {
          "output_type": "stream",
          "name": "stdout",
          "text": [
            "Mounted at /content/drive\n"
          ]
        }
      ]
    },
    {
      "cell_type": "code",
      "source": [
        "data_directory = '/content/drive/My Drive/Miniproject/chest_xray/'"
      ],
      "metadata": {
        "id": "O_4WjlpUZwTQ"
      },
      "execution_count": 4,
      "outputs": []
    },
    {
      "cell_type": "code",
      "source": [
        "train_dir = '/content/drive/My Drive/Miniproject/chest_xray/train'\n",
        "test_dir = '/content/drive/My Drive/Miniproject/chest_xray/test'\n",
        "val_dir = '/content/drive/My Drive/Miniproject/chest_xray/val'"
      ],
      "metadata": {
        "id": "El_QEVjcZ1l0"
      },
      "execution_count": 5,
      "outputs": []
    },
    {
      "cell_type": "code",
      "source": [
        "train_normal_dir = os.path.join(data_directory, 'train', 'NORMAL')\n",
        "train_pneumonia_dir = os.path.join(data_directory, 'train', 'PNEUMONIA')\n",
        "test_normal_dir = os.path.join(data_directory, 'test', 'NORMAL')\n",
        "test_pneumonia_dir = os.path.join(data_directory, 'test', 'PNEUMONIA')"
      ],
      "metadata": {
        "id": "teL4fAjQZ-X4"
      },
      "execution_count": 6,
      "outputs": []
    },
    {
      "cell_type": "code",
      "source": [
        "\n",
        "pneumonia = os.listdir('/content/drive/My Drive/Miniproject/chest_xray/train/PNEUMONIA')\n",
        "normal = os.listdir('/content/drive/My Drive/Miniproject/chest_xray/train/NORMAL')"
      ],
      "metadata": {
        "id": "87jOAOs0aAc2"
      },
      "execution_count": 7,
      "outputs": []
    },
    {
      "cell_type": "code",
      "source": [
        "train_datagen = ImageDataGenerator(\n",
        "    rescale=1./255,\n",
        "    shear_range=0.2,\n",
        "    zoom_range=0.2,\n",
        "    horizontal_flip=True\n",
        ")\n",
        "test_datagen = ImageDataGenerator(rescale=1./255)\n",
        "\n",
        "val_datagen = ImageDataGenerator(rescale=1./255)"
      ],
      "metadata": {
        "id": "ysgUBWTUaDJu"
      },
      "execution_count": 8,
      "outputs": []
    },
    {
      "cell_type": "code",
      "source": [
        "train_generator = train_datagen.flow_from_directory(\n",
        "    train_dir,\n",
        "    target_size=(224, 224),  # Adjust the target size based on your model requirements\n",
        "    batch_size=32,\n",
        "    class_mode='binary',     # 'binary' for binary classification\n",
        ")"
      ],
      "metadata": {
        "colab": {
          "base_uri": "https://localhost:8080/"
        },
        "id": "hqc3NPTUaGZL",
        "outputId": "e25c568b-c77a-4ade-8ae6-de6b772fdc67"
      },
      "execution_count": 9,
      "outputs": [
        {
          "output_type": "stream",
          "name": "stdout",
          "text": [
            "Found 5216 images belonging to 2 classes.\n"
          ]
        }
      ]
    },
    {
      "cell_type": "code",
      "source": [
        "test_generator = test_datagen.flow_from_directory(\n",
        "    test_dir,\n",
        "    target_size=(224, 224),\n",
        "    batch_size=32,\n",
        "    class_mode='binary',\n",
        ")"
      ],
      "metadata": {
        "colab": {
          "base_uri": "https://localhost:8080/"
        },
        "id": "yXeD_tJxaJbU",
        "outputId": "87990579-962c-48d7-d852-975951ec37d6"
      },
      "execution_count": 10,
      "outputs": [
        {
          "output_type": "stream",
          "name": "stdout",
          "text": [
            "Found 624 images belonging to 2 classes.\n"
          ]
        }
      ]
    },
    {
      "cell_type": "code",
      "source": [
        "val_generator = val_datagen.flow_from_directory(\n",
        "    val_dir,\n",
        "    target_size=(224, 224),\n",
        "    batch_size=32,\n",
        "    class_mode='binary',\n",
        ")"
      ],
      "metadata": {
        "colab": {
          "base_uri": "https://localhost:8080/"
        },
        "id": "PTI0cD0PaMJ8",
        "outputId": "f09c95d3-1364-4130-95cb-e049c81e0de7"
      },
      "execution_count": 11,
      "outputs": [
        {
          "output_type": "stream",
          "name": "stdout",
          "text": [
            "Found 16 images belonging to 2 classes.\n"
          ]
        }
      ]
    },
    {
      "cell_type": "code",
      "source": [
        "l = []\n",
        "pneumonia_count = len(pneumonia)\n",
        "normal_count = len(normal)\n",
        "data = {'Category': ['Pneumonia', 'Normal'], 'Count': [pneumonia_count, normal_count]}\n",
        "df = pd.DataFrame(data)\n",
        "\n",
        "sns.set_style('darkgrid')\n",
        "plt.figure(figsize=(8, 6))\n",
        "sns.barplot(data=df, x='Category', y='Count')\n",
        "plt.title('File Count in PNEUMONIA and NORMAL Folders')\n",
        "plt.xlabel('Category')\n",
        "plt.ylabel('Count')\n",
        "plt.show()"
      ],
      "metadata": {
        "colab": {
          "base_uri": "https://localhost:8080/",
          "height": 564
        },
        "id": "5mv9ht0taRLt",
        "outputId": "1099b052-586c-465c-c462-8b7386e023d0"
      },
      "execution_count": 12,
      "outputs": [
        {
          "output_type": "display_data",
          "data": {
            "text/plain": [
              "<Figure size 800x600 with 1 Axes>"
            ],
            "image/png": "[encoded data removed]"
          },
          "metadata": {}
        }
      ]
    },
    {
      "cell_type": "code",
      "source": [
        "y = train_generator.classes\n",
        "\n",
        "# Now 'y' contains the numerical labels for your dataset\n",
        "print(y)\n",
        "unique_classes = np.unique(y)\n",
        "\n",
        "# Calculate class weights for 'NORMAL' and 'PNEUMONIA' classes\n",
        "class_weights= compute_class_weight('balanced', classes=unique_classes, y=y)\n",
        "print(class_weights)"
      ],
      "metadata": {
        "colab": {
          "base_uri": "https://localhost:8080/"
        },
        "id": "HkJSGHvwBCtd",
        "outputId": "71e683ff-4dc7-409a-97e4-120e4c618a68"
      },
      "execution_count": 13,
      "outputs": [
        {
          "output_type": "stream",
          "name": "stdout",
          "text": [
            "[0 0 0 ... 1 1 1]\n",
            "[1.9448173  0.67303226]\n"
          ]
        }
      ]
    },
    {
      "cell_type": "code",
      "source": [
        "class_weight = {0: 1.9448173, 1: 0.67303226}"
      ],
      "metadata": {
        "id": "As26ggv5BChf"
      },
      "execution_count": 14,
      "outputs": []
    },
    {
      "cell_type": "code",
      "source": [
        "base_model = VGG16(weights='imagenet', include_top=False, input_shape=(224, 224, 3))"
      ],
      "metadata": {
        "colab": {
          "base_uri": "https://localhost:8080/"
        },
        "id": "K8U-1UwraVrn",
        "outputId": "073a865c-5eb1-40bf-8e14-19139a338c41"
      },
      "execution_count": 15,
      "outputs": [
        {
          "output_type": "stream",
          "name": "stdout",
          "text": [
            "Downloading data from https://storage.googleapis.com/tensorflow/keras-applications/vgg16/vgg16_weights_tf_dim_ordering_tf_kernels_notop.h5\n",
            "58889256/58889256 [==============================] - 0s 0us/step\n"
          ]
        }
      ]
    },
    {
      "cell_type": "code",
      "source": [
        "for layer in base_model.layers:\n",
        "    layer.trainable = False\n",
        "\n",
        "# Add a new fully connected layer for pneumonia classification\n",
        "model = Sequential()\n",
        "model.add(base_model)\n",
        "model.add(Flatten())\n",
        "model.add(Dense(256, activation='relu'))\n",
        "model.add(Dense(1, activation='sigmoid'))\n"
      ],
      "metadata": {
        "id": "VO2nVJKAaZBM"
      },
      "execution_count": 16,
      "outputs": []
    },
    {
      "cell_type": "code",
      "source": [
        "model.compile(loss='binary_crossentropy', optimizer='adam', metrics=['accuracy'])"
      ],
      "metadata": {
        "id": "tjNAnqQZad-U"
      },
      "execution_count": 17,
      "outputs": []
    },
    {
      "cell_type": "code",
      "source": [
        "history = model.fit(\n",
        "    train_generator,\n",
        "    epochs=3,  # Adjust the number of epochs based on your needs\n",
        "    validation_data=val_generator,\n",
        "    class_weight=class_weight\n",
        ")"
      ],
      "metadata": {
        "colab": {
          "base_uri": "https://localhost:8080/"
        },
        "id": "DSee8lgHagML",
        "outputId": "2dedb502-9cda-46d7-9a49-4c9703060f69"
      },
      "execution_count": 18,
      "outputs": [
        {
          "output_type": "stream",
          "name": "stdout",
          "text": [
            "Epoch 1/3\n",
            "163/163 [==============================] - 3592s 22s/step - loss: 0.3524 - accuracy: 0.9016 - val_loss: 1.1974 - val_accuracy: 0.6875\n",
            "Epoch 2/3\n",
            "163/163 [==============================] - 3521s 22s/step - loss: 0.1533 - accuracy: 0.9431 - val_loss: 0.3164 - val_accuracy: 0.8750\n",
            "Epoch 3/3\n",
            "163/163 [==============================] - 3559s 22s/step - loss: 0.1368 - accuracy: 0.9498 - val_loss: 0.5095 - val_accuracy: 0.6875\n"
          ]
        }
      ]
    },
    {
      "cell_type": "code",
      "source": [
        "from sklearn.metrics import confusion_matrix\n",
        "import seaborn as sns\n",
        "import matplotlib.pyplot as plt\n",
        "\n",
        "# Assuming you have true labels and predicted labels\n",
        "true_labels = test_generator.classes  # Replace with your actual true labels\n",
        "predicted_probabilities = model.predict(test_generator)\n",
        "predicted_labels = (predicted_probabilities > 0.5).astype(int)  # Assuming binary classification\n",
        "  # Replace with your model's predicted labels\n",
        "\n",
        "# Create the confusion matrix\n",
        "cm = confusion_matrix(true_labels, predicted_labels)\n",
        "\n",
        "# Display the confusion matrix as a heatmap\n",
        "plt.figure(figsize=(8, 6))\n",
        "sns.heatmap(cm, annot=True, fmt='d', cmap='Blues', xticklabels=['NORMAL', 'PNEUMONIA'], yticklabels=['NORMAL', 'PNEUMONIA'])\n",
        "plt.xlabel('Predicted Labels')\n",
        "plt.ylabel('True Labels')\n",
        "plt.title('Confusion Matrix')\n",
        "plt.show()"
      ],
      "metadata": {
        "colab": {
          "base_uri": "https://localhost:8080/",
          "height": 582
        },
        "id": "CQcD2Y2J1GPU",
        "outputId": "9b0e6eef-5df6-4f03-a1b8-b7b963ea2b91"
      },
      "execution_count": 19,
      "outputs": [
        {
          "output_type": "stream",
          "name": "stdout",
          "text": [
            "20/20 [==============================] - 414s 21s/step\n"
          ]
        },
        {
          "output_type": "display_data",
          "data": {
            "text/plain": [
              "<Figure size 800x600 with 2 Axes>"
            ],
            "image/png": "[encoded data removed]"
          },
          "metadata": {}
        }
      ]
    },
    {
      "cell_type": "code",
      "source": [
        "model.save(\"xray_model11.keras\")\n",
        "model.save('/content/drive/My Drive/Miniproject/xray_model11.keras')"
      ],
      "metadata": {
        "id": "f_ERl2C0ai9e"
      },
      "execution_count": 20,
      "outputs": []
    },
    {
      "cell_type": "code",
      "source": [],
      "metadata": {
        "id": "3xa8gnKwSEFP"
      },
      "execution_count": null,
      "outputs": []
    }
  ]
}